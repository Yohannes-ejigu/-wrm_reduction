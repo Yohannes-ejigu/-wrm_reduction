{
 "cells": [
  {
   "cell_type": "code",
   "execution_count": null,
   "id": "1fefa1c9-de8d-41b3-b066-a2f2725d596a",
   "metadata": {
    "tags": []
   },
   "outputs": [],
   "source": [
    "#Import\n",
    "import pandas as pd\n",
    "import numpy as np"
   ]
  },
  {
   "cell_type": "code",
   "execution_count": null,
   "id": "b2f37448-73d9-4f05-ba54-47bb84479e2e",
   "metadata": {},
   "outputs": [],
   "source": [
    "# Calculate the WRM reduction\n",
    "# Define a function for calculating the WRM reduction\n",
    "def wrm_reduction(df, orginal, reduced, ferror):\n",
    "    \"\"\"\n",
    "    Calculates the Percentage Weighted RMS (WRM) Reduction for a long time series data\n",
    "    \n",
    "    Args:\n",
    "    original_data: np.array of the original time series data\n",
    "    reduced_data: np.array of the reduced time series data\n",
    "    weights: np.array of the weights for each data point\n",
    "    \n",
    "    Returns:\n",
    "    WRM reduction: percentage of WRM reduction\n",
    "    \"\"\"\n",
    "    df = df.reset_index()\n",
    "    weights = 1/df[ferror]**2\n",
    "    \n",
    "    mu = np.average(df[orginal])\n",
    "    mu2 = np.average(df[reduced])\n",
    "    \n",
    "    wrm_original = np.sqrt(np.average(np.square((df[orginal]-mu)), weights=weights))\n",
    "    wrm_reduced = np.sqrt(np.average(np.square((df[reduced]-mu2)), weights=weights))\n",
    "    print(np.std(df[orginal]),np.std(df[reduced]))\n",
    "    wrm_reduction = (wrm_original - wrm_reduced) / wrm_original * 100.0\n",
    "    \n",
    "    return wrm_reduction"
   ]
  }
 ],
 "metadata": {
  "kernelspec": {
   "display_name": "Python 3",
   "language": "python",
   "name": "python3"
  },
  "language_info": {
   "codemirror_mode": {
    "name": "ipython",
    "version": 3
   },
   "file_extension": ".py",
   "mimetype": "text/x-python",
   "name": "python",
   "nbconvert_exporter": "python",
   "pygments_lexer": "ipython3",
   "version": "3.10.8"
  }
 },
 "nbformat": 4,
 "nbformat_minor": 5
}
